{
 "cells": [
  {
   "cell_type": "code",
   "execution_count": null,
   "metadata": {
    "colab": {
     "base_uri": "https://localhost:8080/"
    },
    "id": "Who1shY2sd-H",
    "outputId": "9127a77f-4f00-4704-e896-b124c104eed5"
   },
   "outputs": [
    {
     "name": "stdout",
     "output_type": "stream",
     "text": [
      "Populating the interactive namespace from numpy and matplotlib\n"
     ]
    }
   ],
   "source": [
    "import numpy as np\n",
    "import pandas as pd\n",
    "import seaborn as sb\n",
    "import matplotlib.pyplot as plt\n",
    "from pandas import Series, DataFrame\n",
    "%pylab inline\n",
    "sb.set()"
   ]
  },
  {
   "cell_type": "code",
   "execution_count": null,
   "metadata": {
    "id": "IUeQKXygvHr-"
   },
   "outputs": [],
   "source": [
    "intakes = pd.read_csv('https://raw.githubusercontent.com/jwong002/sc1015project/main/Austin_Animal_Center_Intakes_20240327.csv')\n",
    "intakes.columns = ['Animal ID', 'Name', 'DateTime', 'MonthYear', 'Found_Location',\n",
    "       'Intake_Type', 'IntakeCondition', 'Animal_Type', 'Sex',\n",
    "       'Age', 'Breed', 'Color']\n",
    "\n",
    "outcomes = pd.read_csv('https://raw.githubusercontent.com/jwong002/sc1015project/main/Austin_Animal_Center_Outcomes_20240327.csv')\n",
    "outcomes.columns = ['Animal ID', 'Name', 'DateTime', 'MonthYear', 'DOB',\n",
    "       'Outcome_Type', 'Outcome_Subtype', 'Animal_Type',\n",
    "       'Sex_upon_Outcome', 'Age_upon_Outcome', 'Breed', 'Color']"
   ]
  },
  {
   "cell_type": "code",
   "execution_count": null,
   "metadata": {
    "id": "ykUP7dMkEwMt"
   },
   "outputs": [],
   "source": [
    "# Sort the data of intakes and outcomes by DateTime\n",
    "intakes.sort_values(by='DateTime', inplace=True)\n",
    "outcomes.sort_values(by='DateTime', inplace=True)\n",
    "\n",
    "# Identify duplicate IDs for intakes\n",
    "duplicate_ids_intakes = intakes['Animal ID'].duplicated(keep=False)\n",
    "\n",
    "# Generate unique suffixes for each duplicate ID based on their occurrence order\n",
    "suffixes_intakes = intakes[duplicate_ids_intakes].groupby('Animal ID').cumcount().astype(str)\n",
    "\n",
    "# Map suffixes to letters (a, b, c, ...)\n",
    "suffixes_intakes = suffixes_intakes.map(lambda x: chr(ord('a') + int(x)))\n",
    "\n",
    "# Add the suffixes to the duplicate IDs\n",
    "intakes.loc[duplicate_ids_intakes, 'Animal ID'] += suffixes_intakes\n",
    "\n",
    "# Identify duplicate IDs for outcomes\n",
    "duplicate_ids_outcomes = outcomes['Animal ID'].duplicated(keep=False)\n",
    "\n",
    "# Generate unique suffixes for each duplicate ID based on their occurrence order\n",
    "suffixes_outcomes = outcomes[duplicate_ids_outcomes].groupby('Animal ID').cumcount().astype(str)\n",
    "\n",
    "# Map suffixes to letters (a, b, c, ...)\n",
    "suffixes_outcomes = suffixes_outcomes.map(lambda x: chr(ord('a') + int(x)))\n",
    "\n",
    "# Add the suffixes to the duplicate IDs\n",
    "outcomes.loc[duplicate_ids_outcomes, 'Animal ID'] += suffixes_outcomes"
   ]
  },
  {
   "cell_type": "code",
   "execution_count": null,
   "metadata": {
    "colab": {
     "base_uri": "https://localhost:8080/"
    },
    "id": "41yl1Q9CzHaE",
    "outputId": "5fd6377f-bb61-4550-f6ac-73317d4073e0"
   },
   "outputs": [
    {
     "data": {
      "text/plain": [
       "(159792, 23)"
      ]
     },
     "execution_count": 44,
     "metadata": {},
     "output_type": "execute_result"
    }
   ],
   "source": [
    "Records = intakes.merge(outcomes, how='inner', left_on = 'Animal ID', right_on = 'Animal ID', suffixes=('_intake', '_outcome'))\n",
    "Records.shape"
   ]
  },
  {
   "cell_type": "code",
   "execution_count": null,
   "metadata": {
    "colab": {
     "base_uri": "https://localhost:8080/"
    },
    "id": "LovavZOwIvf_",
    "outputId": "96fc1b7c-0b78-4402-e2c4-cf1c7490572e"
   },
   "outputs": [
    {
     "name": "stderr",
     "output_type": "stream",
     "text": [
      "<ipython-input-45-7a6ac1e59270>:1: UserWarning: Could not infer format, so each element will be parsed individually, falling back to `dateutil`. To ensure parsing is consistent and as-expected, please specify a format.\n",
      "  Records['MonthYear_intake'] = pd.to_datetime(Records['MonthYear_intake'])\n",
      "<ipython-input-45-7a6ac1e59270>:2: UserWarning: Could not infer format, so each element will be parsed individually, falling back to `dateutil`. To ensure parsing is consistent and as-expected, please specify a format.\n",
      "  Records['MonthYear_outcome'] = pd.to_datetime(Records['MonthYear_outcome'])\n"
     ]
    }
   ],
   "source": [
    "Records['MonthYear_intake'] = pd.to_datetime(Records['MonthYear_intake'])\n",
    "Records['MonthYear_outcome'] = pd.to_datetime(Records['MonthYear_outcome'])"
   ]
  },
  {
   "cell_type": "code",
   "execution_count": null,
   "metadata": {
    "colab": {
     "base_uri": "https://localhost:8080/"
    },
    "id": "05UxtHBr1buD",
    "outputId": "9c52912c-1bc9-4502-dd42-84f773b8e55c"
   },
   "outputs": [
    {
     "name": "stdout",
     "output_type": "stream",
     "text": [
      "<class 'pandas.core.frame.DataFrame'>\n",
      "RangeIndex: 159792 entries, 0 to 159791\n",
      "Data columns (total 23 columns):\n",
      " #   Column               Non-Null Count   Dtype         \n",
      "---  ------               --------------   -----         \n",
      " 0   Animal ID            159792 non-null  object        \n",
      " 1   Name_intake          113782 non-null  object        \n",
      " 2   DateTime_intake      159792 non-null  object        \n",
      " 3   MonthYear_intake     159792 non-null  datetime64[ns]\n",
      " 4   Found_Location       159792 non-null  object        \n",
      " 5   Intake_Type          159792 non-null  object        \n",
      " 6   IntakeCondition      159792 non-null  object        \n",
      " 7   Animal_Type_intake   159792 non-null  object        \n",
      " 8   Sex                  159790 non-null  object        \n",
      " 9   Age                  159791 non-null  object        \n",
      " 10  Breed_intake         159792 non-null  object        \n",
      " 11  Color_intake         159792 non-null  object        \n",
      " 12  Name_outcome         113782 non-null  object        \n",
      " 13  DateTime_outcome     159792 non-null  object        \n",
      " 14  MonthYear_outcome    159792 non-null  datetime64[ns]\n",
      " 15  DOB                  159792 non-null  object        \n",
      " 16  Outcome_Type         159757 non-null  object        \n",
      " 17  Outcome_Subtype      73262 non-null   object        \n",
      " 18  Animal_Type_outcome  159792 non-null  object        \n",
      " 19  Sex_upon_Outcome     159790 non-null  object        \n",
      " 20  Age_upon_Outcome     159790 non-null  object        \n",
      " 21  Breed_outcome        159792 non-null  object        \n",
      " 22  Color_outcome        159792 non-null  object        \n",
      "dtypes: datetime64[ns](2), object(21)\n",
      "memory usage: 28.0+ MB\n"
     ]
    }
   ],
   "source": [
    "Records.info()"
   ]
  },
  {
   "cell_type": "code",
   "execution_count": null,
   "metadata": {
    "colab": {
     "base_uri": "https://localhost:8080/",
     "height": 429
    },
    "id": "8SxX4z7u1m9U",
    "outputId": "15797be8-2267-4923-aeb5-09f17aa751b6"
   },
   "outputs": [
    {
     "data": {
      "application/vnd.google.colaboratory.intrinsic+json": {
       "type": "dataframe",
       "variable_name": "Records"
      },
      "text/html": [
       "\n",
       "  <div id=\"df-b669eddf-f99c-44eb-ad69-d3b907a22383\" class=\"colab-df-container\">\n",
       "    <div>\n",
       "<style scoped>\n",
       "    .dataframe tbody tr th:only-of-type {\n",
       "        vertical-align: middle;\n",
       "    }\n",
       "\n",
       "    .dataframe tbody tr th {\n",
       "        vertical-align: top;\n",
       "    }\n",
       "\n",
       "    .dataframe thead th {\n",
       "        text-align: right;\n",
       "    }\n",
       "</style>\n",
       "<table border=\"1\" class=\"dataframe\">\n",
       "  <thead>\n",
       "    <tr style=\"text-align: right;\">\n",
       "      <th></th>\n",
       "      <th>Animal ID</th>\n",
       "      <th>Name_intake</th>\n",
       "      <th>DateTime_intake</th>\n",
       "      <th>MonthYear_intake</th>\n",
       "      <th>Found_Location</th>\n",
       "      <th>Intake_Type</th>\n",
       "      <th>IntakeCondition</th>\n",
       "      <th>Animal_Type_intake</th>\n",
       "      <th>Sex</th>\n",
       "      <th>Age</th>\n",
       "      <th>...</th>\n",
       "      <th>DateTime_outcome</th>\n",
       "      <th>MonthYear_outcome</th>\n",
       "      <th>DOB</th>\n",
       "      <th>Outcome_Type</th>\n",
       "      <th>Outcome_Subtype</th>\n",
       "      <th>Animal_Type_outcome</th>\n",
       "      <th>Sex_upon_Outcome</th>\n",
       "      <th>Age_upon_Outcome</th>\n",
       "      <th>Breed_outcome</th>\n",
       "      <th>Color_outcome</th>\n",
       "    </tr>\n",
       "  </thead>\n",
       "  <tbody>\n",
       "    <tr>\n",
       "      <th>0</th>\n",
       "      <td>A670057</td>\n",
       "      <td>Brownie</td>\n",
       "      <td>01/01/2014 01:05:00 PM</td>\n",
       "      <td>2014-01-01</td>\n",
       "      <td>S Lamar And Ben White in Austin (TX)</td>\n",
       "      <td>Stray</td>\n",
       "      <td>Normal</td>\n",
       "      <td>Dog</td>\n",
       "      <td>Intact Male</td>\n",
       "      <td>2 years</td>\n",
       "      <td>...</td>\n",
       "      <td>01/05/2014 04:50:00 PM</td>\n",
       "      <td>2014-01-01</td>\n",
       "      <td>01/01/2012</td>\n",
       "      <td>Return to Owner</td>\n",
       "      <td>NaN</td>\n",
       "      <td>Dog</td>\n",
       "      <td>Neutered Male</td>\n",
       "      <td>2 years</td>\n",
       "      <td>Chow Chow Mix</td>\n",
       "      <td>Red</td>\n",
       "    </tr>\n",
       "    <tr>\n",
       "      <th>1</th>\n",
       "      <td>A670059</td>\n",
       "      <td>NaN</td>\n",
       "      <td>01/01/2014 01:31:00 PM</td>\n",
       "      <td>2014-01-01</td>\n",
       "      <td>11402 Robert Wooding in Austin (TX)</td>\n",
       "      <td>Stray</td>\n",
       "      <td>Normal</td>\n",
       "      <td>Dog</td>\n",
       "      <td>Spayed Female</td>\n",
       "      <td>1 year</td>\n",
       "      <td>...</td>\n",
       "      <td>01/05/2014 02:37:00 PM</td>\n",
       "      <td>2014-01-01</td>\n",
       "      <td>01/01/2013</td>\n",
       "      <td>Adoption</td>\n",
       "      <td>NaN</td>\n",
       "      <td>Dog</td>\n",
       "      <td>Spayed Female</td>\n",
       "      <td>1 year</td>\n",
       "      <td>West Highland</td>\n",
       "      <td>White</td>\n",
       "    </tr>\n",
       "    <tr>\n",
       "      <th>2</th>\n",
       "      <td>A670061</td>\n",
       "      <td>Koda</td>\n",
       "      <td>01/01/2014 01:33:00 PM</td>\n",
       "      <td>2014-01-01</td>\n",
       "      <td>Austin (TX)</td>\n",
       "      <td>Owner Surrender</td>\n",
       "      <td>Normal</td>\n",
       "      <td>Dog</td>\n",
       "      <td>Intact Male</td>\n",
       "      <td>2 years</td>\n",
       "      <td>...</td>\n",
       "      <td>01/24/2014 01:41:00 PM</td>\n",
       "      <td>2014-01-01</td>\n",
       "      <td>01/01/2012</td>\n",
       "      <td>Adoption</td>\n",
       "      <td>NaN</td>\n",
       "      <td>Dog</td>\n",
       "      <td>Neutered Male</td>\n",
       "      <td>2 years</td>\n",
       "      <td>Chow Chow Mix</td>\n",
       "      <td>Red</td>\n",
       "    </tr>\n",
       "    <tr>\n",
       "      <th>3</th>\n",
       "      <td>A670064</td>\n",
       "      <td>NaN</td>\n",
       "      <td>01/01/2014 01:57:00 PM</td>\n",
       "      <td>2014-01-01</td>\n",
       "      <td>Gunter St And Gonzalez in Austin (TX)</td>\n",
       "      <td>Stray</td>\n",
       "      <td>Normal</td>\n",
       "      <td>Dog</td>\n",
       "      <td>Intact Female</td>\n",
       "      <td>3 months</td>\n",
       "      <td>...</td>\n",
       "      <td>01/03/2014 04:33:00 PM</td>\n",
       "      <td>2014-01-01</td>\n",
       "      <td>09/16/2013</td>\n",
       "      <td>Died</td>\n",
       "      <td>In Kennel</td>\n",
       "      <td>Dog</td>\n",
       "      <td>Intact Female</td>\n",
       "      <td>3 months</td>\n",
       "      <td>Pit Bull/Pit Bull</td>\n",
       "      <td>Red</td>\n",
       "    </tr>\n",
       "    <tr>\n",
       "      <th>4</th>\n",
       "      <td>A670065</td>\n",
       "      <td>Muneca</td>\n",
       "      <td>01/01/2014 02:11:00 PM</td>\n",
       "      <td>2014-01-01</td>\n",
       "      <td>Applewood Dr in Austin (TX)</td>\n",
       "      <td>Stray</td>\n",
       "      <td>Normal</td>\n",
       "      <td>Dog</td>\n",
       "      <td>Spayed Female</td>\n",
       "      <td>7 years</td>\n",
       "      <td>...</td>\n",
       "      <td>01/02/2014 11:52:00 AM</td>\n",
       "      <td>2014-01-01</td>\n",
       "      <td>01/02/2007</td>\n",
       "      <td>Return to Owner</td>\n",
       "      <td>NaN</td>\n",
       "      <td>Dog</td>\n",
       "      <td>Spayed Female</td>\n",
       "      <td>7 years</td>\n",
       "      <td>Australian Shepherd/Chow Chow</td>\n",
       "      <td>Red/White</td>\n",
       "    </tr>\n",
       "  </tbody>\n",
       "</table>\n",
       "<p>5 rows × 23 columns</p>\n",
       "</div>\n",
       "    <div class=\"colab-df-buttons\">\n",
       "\n",
       "  <div class=\"colab-df-container\">\n",
       "    <button class=\"colab-df-convert\" onclick=\"convertToInteractive('df-b669eddf-f99c-44eb-ad69-d3b907a22383')\"\n",
       "            title=\"Convert this dataframe to an interactive table.\"\n",
       "            style=\"display:none;\">\n",
       "\n",
       "  <svg xmlns=\"http://www.w3.org/2000/svg\" height=\"24px\" viewBox=\"0 -960 960 960\">\n",
       "    <path d=\"M120-120v-720h720v720H120Zm60-500h600v-160H180v160Zm220 220h160v-160H400v160Zm0 220h160v-160H400v160ZM180-400h160v-160H180v160Zm440 0h160v-160H620v160ZM180-180h160v-160H180v160Zm440 0h160v-160H620v160Z\"/>\n",
       "  </svg>\n",
       "    </button>\n",
       "\n",
       "  <style>\n",
       "    .colab-df-container {\n",
       "      display:flex;\n",
       "      gap: 12px;\n",
       "    }\n",
       "\n",
       "    .colab-df-convert {\n",
       "      background-color: #E8F0FE;\n",
       "      border: none;\n",
       "      border-radius: 50%;\n",
       "      cursor: pointer;\n",
       "      display: none;\n",
       "      fill: #1967D2;\n",
       "      height: 32px;\n",
       "      padding: 0 0 0 0;\n",
       "      width: 32px;\n",
       "    }\n",
       "\n",
       "    .colab-df-convert:hover {\n",
       "      background-color: #E2EBFA;\n",
       "      box-shadow: 0px 1px 2px rgba(60, 64, 67, 0.3), 0px 1px 3px 1px rgba(60, 64, 67, 0.15);\n",
       "      fill: #174EA6;\n",
       "    }\n",
       "\n",
       "    .colab-df-buttons div {\n",
       "      margin-bottom: 4px;\n",
       "    }\n",
       "\n",
       "    [theme=dark] .colab-df-convert {\n",
       "      background-color: #3B4455;\n",
       "      fill: #D2E3FC;\n",
       "    }\n",
       "\n",
       "    [theme=dark] .colab-df-convert:hover {\n",
       "      background-color: #434B5C;\n",
       "      box-shadow: 0px 1px 3px 1px rgba(0, 0, 0, 0.15);\n",
       "      filter: drop-shadow(0px 1px 2px rgba(0, 0, 0, 0.3));\n",
       "      fill: #FFFFFF;\n",
       "    }\n",
       "  </style>\n",
       "\n",
       "    <script>\n",
       "      const buttonEl =\n",
       "        document.querySelector('#df-b669eddf-f99c-44eb-ad69-d3b907a22383 button.colab-df-convert');\n",
       "      buttonEl.style.display =\n",
       "        google.colab.kernel.accessAllowed ? 'block' : 'none';\n",
       "\n",
       "      async function convertToInteractive(key) {\n",
       "        const element = document.querySelector('#df-b669eddf-f99c-44eb-ad69-d3b907a22383');\n",
       "        const dataTable =\n",
       "          await google.colab.kernel.invokeFunction('convertToInteractive',\n",
       "                                                    [key], {});\n",
       "        if (!dataTable) return;\n",
       "\n",
       "        const docLinkHtml = 'Like what you see? Visit the ' +\n",
       "          '<a target=\"_blank\" href=https://colab.research.google.com/notebooks/data_table.ipynb>data table notebook</a>'\n",
       "          + ' to learn more about interactive tables.';\n",
       "        element.innerHTML = '';\n",
       "        dataTable['output_type'] = 'display_data';\n",
       "        await google.colab.output.renderOutput(dataTable, element);\n",
       "        const docLink = document.createElement('div');\n",
       "        docLink.innerHTML = docLinkHtml;\n",
       "        element.appendChild(docLink);\n",
       "      }\n",
       "    </script>\n",
       "  </div>\n",
       "\n",
       "\n",
       "<div id=\"df-dd5e2076-d685-4b30-84d5-2bf19fe8d1f3\">\n",
       "  <button class=\"colab-df-quickchart\" onclick=\"quickchart('df-dd5e2076-d685-4b30-84d5-2bf19fe8d1f3')\"\n",
       "            title=\"Suggest charts\"\n",
       "            style=\"display:none;\">\n",
       "\n",
       "<svg xmlns=\"http://www.w3.org/2000/svg\" height=\"24px\"viewBox=\"0 0 24 24\"\n",
       "     width=\"24px\">\n",
       "    <g>\n",
       "        <path d=\"M19 3H5c-1.1 0-2 .9-2 2v14c0 1.1.9 2 2 2h14c1.1 0 2-.9 2-2V5c0-1.1-.9-2-2-2zM9 17H7v-7h2v7zm4 0h-2V7h2v10zm4 0h-2v-4h2v4z\"/>\n",
       "    </g>\n",
       "</svg>\n",
       "  </button>\n",
       "\n",
       "<style>\n",
       "  .colab-df-quickchart {\n",
       "      --bg-color: #E8F0FE;\n",
       "      --fill-color: #1967D2;\n",
       "      --hover-bg-color: #E2EBFA;\n",
       "      --hover-fill-color: #174EA6;\n",
       "      --disabled-fill-color: #AAA;\n",
       "      --disabled-bg-color: #DDD;\n",
       "  }\n",
       "\n",
       "  [theme=dark] .colab-df-quickchart {\n",
       "      --bg-color: #3B4455;\n",
       "      --fill-color: #D2E3FC;\n",
       "      --hover-bg-color: #434B5C;\n",
       "      --hover-fill-color: #FFFFFF;\n",
       "      --disabled-bg-color: #3B4455;\n",
       "      --disabled-fill-color: #666;\n",
       "  }\n",
       "\n",
       "  .colab-df-quickchart {\n",
       "    background-color: var(--bg-color);\n",
       "    border: none;\n",
       "    border-radius: 50%;\n",
       "    cursor: pointer;\n",
       "    display: none;\n",
       "    fill: var(--fill-color);\n",
       "    height: 32px;\n",
       "    padding: 0;\n",
       "    width: 32px;\n",
       "  }\n",
       "\n",
       "  .colab-df-quickchart:hover {\n",
       "    background-color: var(--hover-bg-color);\n",
       "    box-shadow: 0 1px 2px rgba(60, 64, 67, 0.3), 0 1px 3px 1px rgba(60, 64, 67, 0.15);\n",
       "    fill: var(--button-hover-fill-color);\n",
       "  }\n",
       "\n",
       "  .colab-df-quickchart-complete:disabled,\n",
       "  .colab-df-quickchart-complete:disabled:hover {\n",
       "    background-color: var(--disabled-bg-color);\n",
       "    fill: var(--disabled-fill-color);\n",
       "    box-shadow: none;\n",
       "  }\n",
       "\n",
       "  .colab-df-spinner {\n",
       "    border: 2px solid var(--fill-color);\n",
       "    border-color: transparent;\n",
       "    border-bottom-color: var(--fill-color);\n",
       "    animation:\n",
       "      spin 1s steps(1) infinite;\n",
       "  }\n",
       "\n",
       "  @keyframes spin {\n",
       "    0% {\n",
       "      border-color: transparent;\n",
       "      border-bottom-color: var(--fill-color);\n",
       "      border-left-color: var(--fill-color);\n",
       "    }\n",
       "    20% {\n",
       "      border-color: transparent;\n",
       "      border-left-color: var(--fill-color);\n",
       "      border-top-color: var(--fill-color);\n",
       "    }\n",
       "    30% {\n",
       "      border-color: transparent;\n",
       "      border-left-color: var(--fill-color);\n",
       "      border-top-color: var(--fill-color);\n",
       "      border-right-color: var(--fill-color);\n",
       "    }\n",
       "    40% {\n",
       "      border-color: transparent;\n",
       "      border-right-color: var(--fill-color);\n",
       "      border-top-color: var(--fill-color);\n",
       "    }\n",
       "    60% {\n",
       "      border-color: transparent;\n",
       "      border-right-color: var(--fill-color);\n",
       "    }\n",
       "    80% {\n",
       "      border-color: transparent;\n",
       "      border-right-color: var(--fill-color);\n",
       "      border-bottom-color: var(--fill-color);\n",
       "    }\n",
       "    90% {\n",
       "      border-color: transparent;\n",
       "      border-bottom-color: var(--fill-color);\n",
       "    }\n",
       "  }\n",
       "</style>\n",
       "\n",
       "  <script>\n",
       "    async function quickchart(key) {\n",
       "      const quickchartButtonEl =\n",
       "        document.querySelector('#' + key + ' button');\n",
       "      quickchartButtonEl.disabled = true;  // To prevent multiple clicks.\n",
       "      quickchartButtonEl.classList.add('colab-df-spinner');\n",
       "      try {\n",
       "        const charts = await google.colab.kernel.invokeFunction(\n",
       "            'suggestCharts', [key], {});\n",
       "      } catch (error) {\n",
       "        console.error('Error during call to suggestCharts:', error);\n",
       "      }\n",
       "      quickchartButtonEl.classList.remove('colab-df-spinner');\n",
       "      quickchartButtonEl.classList.add('colab-df-quickchart-complete');\n",
       "    }\n",
       "    (() => {\n",
       "      let quickchartButtonEl =\n",
       "        document.querySelector('#df-dd5e2076-d685-4b30-84d5-2bf19fe8d1f3 button');\n",
       "      quickchartButtonEl.style.display =\n",
       "        google.colab.kernel.accessAllowed ? 'block' : 'none';\n",
       "    })();\n",
       "  </script>\n",
       "</div>\n",
       "\n",
       "    </div>\n",
       "  </div>\n"
      ],
      "text/plain": [
       "  Animal ID Name_intake         DateTime_intake MonthYear_intake  \\\n",
       "0   A670057     Brownie  01/01/2014 01:05:00 PM       2014-01-01   \n",
       "1   A670059         NaN  01/01/2014 01:31:00 PM       2014-01-01   \n",
       "2   A670061        Koda  01/01/2014 01:33:00 PM       2014-01-01   \n",
       "3   A670064         NaN  01/01/2014 01:57:00 PM       2014-01-01   \n",
       "4   A670065      Muneca  01/01/2014 02:11:00 PM       2014-01-01   \n",
       "\n",
       "                          Found_Location      Intake_Type IntakeCondition  \\\n",
       "0   S Lamar And Ben White in Austin (TX)            Stray          Normal   \n",
       "1    11402 Robert Wooding in Austin (TX)            Stray          Normal   \n",
       "2                            Austin (TX)  Owner Surrender          Normal   \n",
       "3  Gunter St And Gonzalez in Austin (TX)            Stray          Normal   \n",
       "4            Applewood Dr in Austin (TX)            Stray          Normal   \n",
       "\n",
       "  Animal_Type_intake            Sex       Age  ...        DateTime_outcome  \\\n",
       "0                Dog    Intact Male   2 years  ...  01/05/2014 04:50:00 PM   \n",
       "1                Dog  Spayed Female    1 year  ...  01/05/2014 02:37:00 PM   \n",
       "2                Dog    Intact Male   2 years  ...  01/24/2014 01:41:00 PM   \n",
       "3                Dog  Intact Female  3 months  ...  01/03/2014 04:33:00 PM   \n",
       "4                Dog  Spayed Female   7 years  ...  01/02/2014 11:52:00 AM   \n",
       "\n",
       "  MonthYear_outcome         DOB     Outcome_Type Outcome_Subtype  \\\n",
       "0        2014-01-01  01/01/2012  Return to Owner             NaN   \n",
       "1        2014-01-01  01/01/2013         Adoption             NaN   \n",
       "2        2014-01-01  01/01/2012         Adoption             NaN   \n",
       "3        2014-01-01  09/16/2013             Died       In Kennel   \n",
       "4        2014-01-01  01/02/2007  Return to Owner             NaN   \n",
       "\n",
       "  Animal_Type_outcome Sex_upon_Outcome Age_upon_Outcome  \\\n",
       "0                 Dog    Neutered Male          2 years   \n",
       "1                 Dog    Spayed Female           1 year   \n",
       "2                 Dog    Neutered Male          2 years   \n",
       "3                 Dog    Intact Female         3 months   \n",
       "4                 Dog    Spayed Female          7 years   \n",
       "\n",
       "                   Breed_outcome Color_outcome  \n",
       "0                  Chow Chow Mix           Red  \n",
       "1                  West Highland         White  \n",
       "2                  Chow Chow Mix           Red  \n",
       "3              Pit Bull/Pit Bull           Red  \n",
       "4  Australian Shepherd/Chow Chow     Red/White  \n",
       "\n",
       "[5 rows x 23 columns]"
      ]
     },
     "execution_count": 47,
     "metadata": {},
     "output_type": "execute_result"
    }
   ],
   "source": [
    "Records.head()"
   ]
  },
  {
   "cell_type": "markdown",
   "metadata": {
    "id": "gAAD3Stu0xn0"
   },
   "source": [
    "# **Fixing records that don't match and dropping irrelevant columns**"
   ]
  },
  {
   "cell_type": "markdown",
   "metadata": {
    "id": "xOdQyJ17uJpu"
   },
   "source": [
    "# **Estimating the Relevance of Date of Birth Information**"
   ]
  },
  {
   "cell_type": "code",
   "execution_count": null,
   "metadata": {
    "colab": {
     "base_uri": "https://localhost:8080/"
    },
    "id": "VsYF2YSR1CbP",
    "outputId": "ab822ac3-22ae-42ad-fc2a-e584dc9a392c"
   },
   "outputs": [
    {
     "name": "stdout",
     "output_type": "stream",
     "text": [
      "Null DOBs: 0\n"
     ]
    }
   ],
   "source": [
    "# DOB appears to be irrelevant because every animal has a DOB even though not all animals were born in the shelter\n",
    "\n",
    "null_dobs = Records['DOB'].isnull().sum()\n",
    "print(\"Null DOBs:\", null_dobs)"
   ]
  },
  {
   "cell_type": "markdown",
   "metadata": {
    "id": "cl6QoR6_uSBT"
   },
   "source": [
    "# **Removing Redundant Columns**"
   ]
  },
  {
   "cell_type": "code",
   "execution_count": null,
   "metadata": {
    "id": "yKBwMNU73ojk"
   },
   "outputs": [],
   "source": [
    "# Animal Type, Breed and Color are all consistent across intake and outake\n",
    "columns_to_delete = ['DOB', 'Animal_Type_outcome', 'Breed_outcome', 'Color_outcome', 'Found_Location']\n",
    "for col in columns_to_delete:\n",
    "    if col in Records.columns:\n",
    "        del Records[col]"
   ]
  },
  {
   "cell_type": "markdown",
   "metadata": {
    "id": "RxgawMnbugCM"
   },
   "source": [
    "# **Displaying the updated column structure of the data**"
   ]
  },
  {
   "cell_type": "code",
   "execution_count": null,
   "metadata": {
    "colab": {
     "base_uri": "https://localhost:8080/"
    },
    "id": "me3NGRe84wn0",
    "outputId": "2446166d-08ed-445b-adbc-4aaa8bcd85da"
   },
   "outputs": [
    {
     "name": "stdout",
     "output_type": "stream",
     "text": [
      "COLUMNS:  Index(['Animal ID', 'Name_intake', 'DateTime_intake', 'MonthYear_intake',\n",
      "       'Intake_Type', 'IntakeCondition', 'Animal_Type_intake', 'Sex', 'Age',\n",
      "       'Breed_intake', 'Color_intake', 'Name_outcome', 'DateTime_outcome',\n",
      "       'MonthYear_outcome', 'Outcome_Type', 'Outcome_Subtype',\n",
      "       'Sex_upon_Outcome', 'Age_upon_Outcome'],\n",
      "      dtype='object')\n"
     ]
    }
   ],
   "source": [
    "print (\"COLUMNS: \", Records.columns)"
   ]
  },
  {
   "cell_type": "markdown",
   "metadata": {
    "id": "L9imYLChumQe"
   },
   "source": [
    "# **Estimating missing values**"
   ]
  },
  {
   "cell_type": "code",
   "execution_count": null,
   "metadata": {
    "colab": {
     "base_uri": "https://localhost:8080/"
    },
    "id": "Lm72aYJi62Yy",
    "outputId": "3d308d47-f44b-4285-a57f-be50d4b7d074"
   },
   "outputs": [
    {
     "data": {
      "text/plain": [
       "Animal ID                 0\n",
       "Name_intake           46010\n",
       "DateTime_intake           0\n",
       "MonthYear_intake          0\n",
       "Intake_Type               0\n",
       "IntakeCondition           0\n",
       "Animal_Type_intake        0\n",
       "Sex                       2\n",
       "Age                       1\n",
       "Breed_intake              0\n",
       "Color_intake              0\n",
       "Name_outcome          46010\n",
       "DateTime_outcome          0\n",
       "MonthYear_outcome         0\n",
       "Outcome_Type             35\n",
       "Outcome_Subtype       86530\n",
       "Sex_upon_Outcome          2\n",
       "Age_upon_Outcome          2\n",
       "dtype: int64"
      ]
     },
     "execution_count": 51,
     "metadata": {},
     "output_type": "execute_result"
    }
   ],
   "source": [
    "Records.isnull().sum()"
   ]
  },
  {
   "cell_type": "markdown",
   "metadata": {
    "id": "V7hFco-uu2Il"
   },
   "source": [
    "# **Filling in missing data values**"
   ]
  },
  {
   "cell_type": "code",
   "execution_count": null,
   "metadata": {
    "colab": {
     "base_uri": "https://localhost:8080/"
    },
    "id": "9UCf3lZy7TYR",
    "outputId": "c78e5de5-9ca6-4c95-8372-c4005becffba"
   },
   "outputs": [
    {
     "name": "stdout",
     "output_type": "stream",
     "text": [
      "<class 'pandas.core.frame.DataFrame'>\n",
      "RangeIndex: 159792 entries, 0 to 159791\n",
      "Data columns (total 18 columns):\n",
      " #   Column              Non-Null Count   Dtype         \n",
      "---  ------              --------------   -----         \n",
      " 0   Animal ID           159792 non-null  object        \n",
      " 1   Name_intake         159792 non-null  object        \n",
      " 2   DateTime_intake     159792 non-null  object        \n",
      " 3   MonthYear_intake    159792 non-null  datetime64[ns]\n",
      " 4   Intake_Type         159792 non-null  object        \n",
      " 5   IntakeCondition     159792 non-null  object        \n",
      " 6   Animal_Type_intake  159792 non-null  object        \n",
      " 7   Sex                 159792 non-null  object        \n",
      " 8   Age                 159792 non-null  object        \n",
      " 9   Breed_intake        159792 non-null  object        \n",
      " 10  Color_intake        159792 non-null  object        \n",
      " 11  Name_outcome        159792 non-null  object        \n",
      " 12  DateTime_outcome    159792 non-null  object        \n",
      " 13  MonthYear_outcome   159792 non-null  datetime64[ns]\n",
      " 14  Outcome_Type        159792 non-null  object        \n",
      " 15  Outcome_Subtype     159792 non-null  object        \n",
      " 16  Sex_upon_Outcome    159792 non-null  object        \n",
      " 17  Age_upon_Outcome    159792 non-null  object        \n",
      "dtypes: datetime64[ns](2), object(16)\n",
      "memory usage: 21.9+ MB\n"
     ]
    }
   ],
   "source": [
    "Records[\"Name_intake\"].fillna(value = \"NoName\", inplace = True)\n",
    "Records[\"Name_outcome\"].fillna(value = \"NoName\", inplace = True)\n",
    "Records[\"Outcome_Type\"].fillna(value = \"Unknown\", inplace = True)\n",
    "Records[\"Outcome_Subtype\"].fillna(value = \"Unknown\", inplace = True)\n",
    "Records[\"Sex\"].fillna(value = \"Unknown\", inplace = True)\n",
    "Records[\"Age\"].fillna(value = \"Unknown\", inplace = True)\n",
    "Records[\"Sex_upon_Outcome\"].fillna(value = \"Unknown\", inplace = True)\n",
    "Records[\"Age_upon_Outcome\"].fillna(value = \"Unknown\", inplace = True)\n",
    "Records.info()"
   ]
  },
  {
   "cell_type": "markdown",
   "metadata": {
    "id": "bM8-ixFv-l4-"
   },
   "source": [
    "# **Feature Extraction**"
   ]
  },
  {
   "cell_type": "markdown",
   "metadata": {
    "id": "Ka-QTDjl_WIF"
   },
   "source": [
    "# **Derive the statuses \"Spayed\" and \"Intact\" to determine if there were any alterations in these conditions throughout the shelter stay, as well as ascertain the gender of each animal.**"
   ]
  },
  {
   "cell_type": "code",
   "execution_count": null,
   "metadata": {
    "colab": {
     "base_uri": "https://localhost:8080/"
    },
    "id": "N59It3m2_Rm-",
    "outputId": "29c49d96-1b71-4d12-ca9c-fa5b77a7de17"
   },
   "outputs": [
    {
     "name": "stdout",
     "output_type": "stream",
     "text": [
      "fixed_changed\n",
      "No change in fixed status (0):                                  95185\n",
      "Changed from intact at intake to not intact at outcome (1):     64563\n",
      "Changed from not intact at intake to intact at outcome (-1):       44\n",
      "Name: count, dtype: int64\n"
     ]
    }
   ],
   "source": [
    "def get_gender(val):\n",
    "    try:\n",
    "        val_list = val.split(' ')\n",
    "        return val_list[1]\n",
    "    except:\n",
    "        return np.nan\n",
    "def get_fixed(val):\n",
    "    try:\n",
    "        val_list = val.split(' ')\n",
    "        return val_list[0]\n",
    "    except:\n",
    "        return np.nan\n",
    "\n",
    "Records['Gender'] = Records['Sex'].apply(get_gender)\n",
    "Records['fixed_intake'] = Records['Sex'].apply(get_fixed)\n",
    "Records['fixed_outcome'] = Records['Sex_upon_Outcome'].apply(get_fixed)\n",
    "Records[\"Gender\"].fillna(value = \"Unknown\", inplace = True)\n",
    "\n",
    "Records['fixed_changed'] = 0\n",
    "mask = (Records['fixed_intake'] == 'Intact') & (Records['fixed_outcome'] != 'Intact')\n",
    "Records.loc[mask, 'fixed_changed'] = 1\n",
    "mask = (Records['fixed_intake'] != 'Intact') & (Records['fixed_outcome'] == 'Intact')\n",
    "Records.loc[mask, 'fixed_changed'] = -1\n",
    "\n",
    "value_descriptions = {\n",
    "0: \"No change in fixed status (0):\",\n",
    "1: \"Changed from intact at intake to not intact at outcome (1):\",\n",
    "-1: \"Changed from not intact at intake to intact at outcome (-1):\"\n",
    "}\n",
    "\n",
    "fixed_changed_counts = Records['fixed_changed'].value_counts().rename(index=value_descriptions)\n",
    "print(fixed_changed_counts)\n"
   ]
  },
  {
   "cell_type": "markdown",
   "metadata": {
    "id": "29XEJi0ZDzZI"
   },
   "source": [
    "# **Categorizing age into ranges**"
   ]
  },
  {
   "cell_type": "code",
   "execution_count": null,
   "metadata": {
    "colab": {
     "base_uri": "https://localhost:8080/"
    },
    "id": "fXOeteUQE8dd",
    "outputId": "40f27e5e-a12d-4e64-bc1a-590957736038"
   },
   "outputs": [
    {
     "data": {
      "text/plain": [
       "Age_Bucket\n",
       "1-3 years           63660\n",
       "1-6 months          42958\n",
       "1-6 weeks           16682\n",
       "4-6 years           14526\n",
       "7+ years            10571\n",
       "7-12 months          7898\n",
       "Less than 1 week     3496\n",
       "other                   1\n",
       "Name: count, dtype: int64"
      ]
     },
     "execution_count": 56,
     "metadata": {},
     "output_type": "execute_result"
    }
   ],
   "source": [
    "import re\n",
    "\n",
    "def get_age_bucket(val):\n",
    "    if re.search(\"day\", val):\n",
    "        return \"Less than 1 week\"\n",
    "    elif re.search(\"week\", val):\n",
    "        return \"1-6 weeks\"\n",
    "    elif re.search(\"[1,2,3,4,5,6] month\", val):\n",
    "        return \"1-6 months\"\n",
    "    elif re.search(\"[7,8,9,10,11,12] month\", val):\n",
    "        return \"7-12 months\"\n",
    "    elif re.search(\"[1,2,3] year\", val):\n",
    "        return \"1-3 years\"\n",
    "    elif re.search(\"[4,5,6] year\", val):\n",
    "        return \"4-6 years\"\n",
    "    elif re.search(\"year\", val):\n",
    "        return \"7+ years\"\n",
    "    else:\n",
    "        return \"other\"\n",
    "\n",
    "Records['Age_Bucket'] = Records['Age'].apply(get_age_bucket)\n",
    "Records['Age_Bucket'].value_counts()"
   ]
  },
  {
   "cell_type": "markdown",
   "metadata": {
    "id": "yl5evJlzKP9Q"
   },
   "source": [
    "# **Evaluate the duration of an animal's stay by calculating the gap between arrival and departure dates, followed by grouping these durations into defined intervals.**"
   ]
  },
  {
   "cell_type": "code",
   "execution_count": null,
   "metadata": {
    "colab": {
     "base_uri": "https://localhost:8080/"
    },
    "id": "qqod-Y1SN3jO",
    "outputId": "40b464f5-0aaa-4e5a-c405-198c4a4002c2"
   },
   "outputs": [
    {
     "name": "stderr",
     "output_type": "stream",
     "text": [
      "<ipython-input-57-71f9c1989811>:6: UserWarning: Could not infer format, so each element will be parsed individually, falling back to `dateutil`. To ensure parsing is consistent and as-expected, please specify a format.\n",
      "  Records['DateTime_intake'] = pd.to_datetime(Records['DateTime_intake'])\n",
      "<ipython-input-57-71f9c1989811>:7: UserWarning: Could not infer format, so each element will be parsed individually, falling back to `dateutil`. To ensure parsing is consistent and as-expected, please specify a format.\n",
      "  Records['DateTime_outcome'] = pd.to_datetime(Records['DateTime_outcome'])\n"
     ]
    },
    {
     "name": "stdout",
     "output_type": "stream",
     "text": [
      "Days_length\n",
      "0-7 days               90955\n",
      "1-3 weeks              28503\n",
      "3-6 weeks              14796\n",
      "7-12 weeks             12967\n",
      "12 weeks - 6 months     4929\n",
      "6-12 months             1708\n",
      "Name: count, dtype: int64\n",
      "0     4\n",
      "1     4\n",
      "2    23\n",
      "3     2\n",
      "4     0\n",
      "Name: Days_length2, dtype: int64\n"
     ]
    }
   ],
   "source": [
    "import pandas as pd\n",
    "import numpy as np\n",
    "import re\n",
    "\n",
    "# Convert columns to datetime if they are not already\n",
    "Records['DateTime_intake'] = pd.to_datetime(Records['DateTime_intake'])\n",
    "Records['DateTime_outcome'] = pd.to_datetime(Records['DateTime_outcome'])\n",
    "\n",
    "# Calculate the length of stay in the shelter as a new column\n",
    "Records['DateTime_length'] = Records['DateTime_outcome'] - Records['DateTime_intake']\n",
    "\n",
    "# Remove negative values under DateTime_length column\n",
    "Records = Records[Records['DateTime_length'] >= pd.Timedelta(days=0)]\n",
    "\n",
    "# Calculate quantiles for filtering outliers\n",
    "q_low = Records['DateTime_length'].quantile(0.01)\n",
    "q_hi = Records['DateTime_length'].quantile(0.99)\n",
    "\n",
    "# Filter records between the lower and upper quantiles to remove outliers\n",
    "Records = Records[(Records['DateTime_length'] >= q_low) & (Records['DateTime_length'] <= q_hi)]\n",
    "\n",
    "def get_days_length(val):\n",
    "    try:\n",
    "        days = val.days  # Extract the number of days from the timedelta\n",
    "        if days <= 7:\n",
    "            return \"0-7 days\"\n",
    "        elif days <= 21:\n",
    "            return \"1-3 weeks\"\n",
    "        elif days <= 42:\n",
    "            return \"3-6 weeks\"\n",
    "        elif days <= 84:\n",
    "            return \"7-12 weeks\"\n",
    "        elif days <= 168:\n",
    "            return \"12 weeks - 6 months\"\n",
    "        elif days <= 365:\n",
    "            return \"6-12 months\"\n",
    "        elif days <= 730:\n",
    "            return \"1-2 years\"\n",
    "        else:\n",
    "            return \"2+ years\"\n",
    "    except:\n",
    "        return np.nan\n",
    "\n",
    "Records['Days_length'] = Records['DateTime_length'].apply(get_days_length)\n",
    "import pandas as pd\n",
    "\n",
    "# Convert 'DateTime_length' to a 'Timedelta' object if it's not already\n",
    "Records['DateTime_length'] = pd.to_timedelta(Records['DateTime_length'])\n",
    "\n",
    "# Extract just the days component of 'DateTime_length'\n",
    "Records['Days_length2'] = Records['DateTime_length'].dt.days\n",
    "\n",
    "# Now, 'Days_length' will have only the number of days, without hours, minutes, and seconds\n",
    "\n",
    "print(Records['Days_length'].value_counts())\n",
    "print(Records['Days_length2'].head())"
   ]
  },
  {
   "cell_type": "markdown",
   "metadata": {
    "id": "7tE3Q7ZRvoBD"
   },
   "source": [
    "# **Exporting the cleaned DataFrame to a new CSV file**"
   ]
  },
  {
   "cell_type": "code",
   "execution_count": null,
   "metadata": {
    "id": "ahsBC3fev0JG"
   },
   "outputs": [],
   "source": [
    "cleaned_data_path = 'train_cleaned.csv'\n",
    "Records.to_csv(cleaned_data_path, index=False)"
   ]
  },
  {
   "cell_type": "code",
   "execution_count": null,
   "metadata": {
    "colab": {
     "base_uri": "https://localhost:8080/",
     "height": 34
    },
    "id": "_8Mn6ExRyEc1",
    "outputId": "3ce7be4f-1057-4630-a5ac-a738f11df310"
   },
   "outputs": [
    {
     "data": {
      "application/javascript": [
       "\n",
       "    async function download(id, filename, size) {\n",
       "      if (!google.colab.kernel.accessAllowed) {\n",
       "        return;\n",
       "      }\n",
       "      const div = document.createElement('div');\n",
       "      const label = document.createElement('label');\n",
       "      label.textContent = `Downloading \"${filename}\": `;\n",
       "      div.appendChild(label);\n",
       "      const progress = document.createElement('progress');\n",
       "      progress.max = size;\n",
       "      div.appendChild(progress);\n",
       "      document.body.appendChild(div);\n",
       "\n",
       "      const buffers = [];\n",
       "      let downloaded = 0;\n",
       "\n",
       "      const channel = await google.colab.kernel.comms.open(id);\n",
       "      // Send a message to notify the kernel that we're ready.\n",
       "      channel.send({})\n",
       "\n",
       "      for await (const message of channel.messages) {\n",
       "        // Send a message to notify the kernel that we're ready.\n",
       "        channel.send({})\n",
       "        if (message.buffers) {\n",
       "          for (const buffer of message.buffers) {\n",
       "            buffers.push(buffer);\n",
       "            downloaded += buffer.byteLength;\n",
       "            progress.value = downloaded;\n",
       "          }\n",
       "        }\n",
       "      }\n",
       "      const blob = new Blob(buffers, {type: 'application/binary'});\n",
       "      const a = document.createElement('a');\n",
       "      a.href = window.URL.createObjectURL(blob);\n",
       "      a.download = filename;\n",
       "      div.appendChild(a);\n",
       "      a.click();\n",
       "      div.remove();\n",
       "    }\n",
       "  "
      ],
      "text/plain": [
       "<IPython.core.display.Javascript object>"
      ]
     },
     "metadata": {},
     "output_type": "display_data"
    },
    {
     "data": {
      "application/javascript": [
       "download(\"download_b4b7d9f9-222d-40d7-860d-1e41f0487e10\", \"train_cleaned.csv\", 39614186)"
      ],
      "text/plain": [
       "<IPython.core.display.Javascript object>"
      ]
     },
     "metadata": {},
     "output_type": "display_data"
    }
   ],
   "source": [
    "from google.colab import files\n",
    "files.download('train_cleaned.csv')"
   ]
  }
 ],
 "metadata": {
  "colab": {
   "provenance": []
  },
  "kernelspec": {
   "display_name": "Python 3 (ipykernel)",
   "language": "python",
   "name": "python3"
  },
  "language_info": {
   "codemirror_mode": {
    "name": "ipython",
    "version": 3
   },
   "file_extension": ".py",
   "mimetype": "text/x-python",
   "name": "python",
   "nbconvert_exporter": "python",
   "pygments_lexer": "ipython3",
   "version": "3.11.5"
  }
 },
 "nbformat": 4,
 "nbformat_minor": 1
}
